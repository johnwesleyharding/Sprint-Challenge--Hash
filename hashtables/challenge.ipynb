{
 "cells": [
  {
   "cell_type": "code",
   "execution_count": 21,
   "metadata": {},
   "outputs": [],
   "source": [
    "def get_indices_of_item_weights(weights, length, limit):\n",
    "    \n",
    "    if length < 2:\n",
    "        \n",
    "        return None\n",
    "\n",
    "    ht = {}\n",
    "\n",
    "    for i in range(length):\n",
    "\n",
    "        a = weights[i]\n",
    "\n",
    "        for j in range(i + 1, length):\n",
    "\n",
    "            b = weights[j]\n",
    "                \n",
    "            ht[a + b] = (j, i)\n",
    "            \n",
    "    return ht[limit]\n",
    "\n"
   ]
  },
  {
   "cell_type": "code",
   "execution_count": 23,
   "metadata": {},
   "outputs": [
    {
     "data": {
      "text/plain": [
       "(1, 0)"
      ]
     },
     "execution_count": 23,
     "metadata": {},
     "output_type": "execute_result"
    }
   ],
   "source": [
    "weights_2 = [4, 4]\n",
    "get_indices_of_item_weights(weights_2, 2, 8)"
   ]
  },
  {
   "cell_type": "code",
   "execution_count": 40,
   "metadata": {},
   "outputs": [],
   "source": [
    "class Ticket:\n",
    "    def __init__(self, source, destination):\n",
    "        self.source = source\n",
    "        self.destination = destination\n",
    "\n",
    "\n",
    "def reconstruct_trip(tickets, length):\n",
    "    \n",
    "    route = [None] * length\n",
    "    ht = {}\n",
    "    source = \"NONE\"\n",
    "    \n",
    "    for ticket in tickets:\n",
    "        \n",
    "        ht[ticket.source] = ticket.destination\n",
    "        \n",
    "    for i in range(length):\n",
    "        \n",
    "        route[i] = ht[source]\n",
    "        source = ht[source]\n",
    "\n",
    "    return route"
   ]
  },
  {
   "cell_type": "code",
   "execution_count": 41,
   "metadata": {},
   "outputs": [
    {
     "data": {
      "text/plain": [
       "['LAX', 'SFO', 'BHM', 'FLG', 'XNA', 'SAP', 'SLC', 'PIT', 'ORD', 'NONE']"
      ]
     },
     "execution_count": 41,
     "metadata": {},
     "output_type": "execute_result"
    }
   ],
   "source": [
    "ticket_1 = Ticket(\"PIT\", \"ORD\")\n",
    "ticket_2 = Ticket(\"XNA\", \"SAP\")\n",
    "ticket_3 = Ticket(\"SFO\", \"BHM\")\n",
    "ticket_4 = Ticket(\"FLG\", \"XNA\")\n",
    "ticket_5 = Ticket(\"NONE\", \"LAX\")\n",
    "ticket_6 = Ticket(\"LAX\", \"SFO\")\n",
    "ticket_7 = Ticket(\"SAP\", \"SLC\")\n",
    "ticket_8 = Ticket(\"ORD\", \"NONE\")\n",
    "ticket_9 = Ticket(\"SLC\", \"PIT\")\n",
    "ticket_10 = Ticket(\"BHM\", \"FLG\")\n",
    "\n",
    "tickets = [ticket_1, ticket_2, ticket_3, ticket_4, ticket_5,\n",
    "           ticket_6, ticket_7, ticket_8, ticket_9, ticket_10]\n",
    "\n",
    "expected = [\"LAX\", \"SFO\", \"BHM\", \"FLG\", \"XNA\", \"SAP\",\n",
    "            \"SLC\", \"PIT\", \"ORD\", \"NONE\"]\n",
    "reconstruct_trip(tickets, 10)"
   ]
  },
  {
   "cell_type": "code",
   "execution_count": 44,
   "metadata": {},
   "outputs": [],
   "source": [
    "def intersection(arrays):\n",
    "    \n",
    "    l = len(arrays)\n",
    "    ht = {}\n",
    "    result = []\n",
    "    \n",
    "    for i in range(l):\n",
    "        \n",
    "        array = arrays[i]\n",
    "        \n",
    "        for value in array:\n",
    "            \n",
    "            if value in ht:\n",
    "                \n",
    "                ht[value] += 1\n",
    "            \n",
    "            else:\n",
    "                \n",
    "                ht[value] = 1\n",
    "                \n",
    "            if i == l - 1 and ht[value] == l:\n",
    "\n",
    "                result.append(value)\n",
    "    \n",
    "    return result"
   ]
  },
  {
   "cell_type": "code",
   "execution_count": 48,
   "metadata": {},
   "outputs": [],
   "source": [
    "def has_negatives(a):\n",
    "    \n",
    "    ht = {}\n",
    "    result = []\n",
    "\n",
    "    for value in a:\n",
    "        \n",
    "        i = abs(value)\n",
    "        \n",
    "        if i in ht:\n",
    "            \n",
    "            if ht[i] == value * -1:\n",
    "                \n",
    "                result.append(i)\n",
    "                ht[i] = 0\n",
    "        \n",
    "        else:\n",
    "            \n",
    "            ht[i] = value\n",
    "\n",
    "    return result"
   ]
  },
  {
   "cell_type": "code",
   "execution_count": 50,
   "metadata": {},
   "outputs": [
    {
     "data": {
      "text/plain": [
       "[1, 2, 4]"
      ]
     },
     "execution_count": 50,
     "metadata": {},
     "output_type": "execute_result"
    }
   ],
   "source": [
    "has_negatives([-1,-2,1,2,3,4,-4])"
   ]
  },
  {
   "cell_type": "code",
   "execution_count": 56,
   "metadata": {},
   "outputs": [],
   "source": [
    "def finder(files, queries):\n",
    "    \n",
    "    ht = {}\n",
    "    result = []\n",
    "    \n",
    "    for file in files:\n",
    "        \n",
    "        tail = file.split('/')[-1]\n",
    "        \n",
    "        if tail in ht:\n",
    "            \n",
    "            ht[tail].append(file)\n",
    "            \n",
    "        else:\n",
    "            \n",
    "            ht[tail] = [file]\n",
    "    \n",
    "    for query in queries:\n",
    "        \n",
    "        if query in ht:\n",
    "            \n",
    "            result += ht[query]\n",
    "\n",
    "    return result"
   ]
  },
  {
   "cell_type": "code",
   "execution_count": 57,
   "metadata": {},
   "outputs": [
    {
     "data": {
      "text/plain": [
       "['/bin/foo', '/usr/bin/baz']"
      ]
     },
     "execution_count": 57,
     "metadata": {},
     "output_type": "execute_result"
    }
   ],
   "source": [
    "files = [\n",
    "            '/bin/foo',\n",
    "            '/bin/bar',\n",
    "            '/usr/bin/baz'\n",
    "        ]\n",
    "queries = [\n",
    "            \"foo\",\n",
    "            \"qux\",\n",
    "            \"baz\"\n",
    "        ]\n",
    "finder(files, queries)"
   ]
  },
  {
   "cell_type": "code",
   "execution_count": null,
   "metadata": {},
   "outputs": [],
   "source": []
  },
  {
   "cell_type": "code",
   "execution_count": null,
   "metadata": {},
   "outputs": [],
   "source": []
  }
 ],
 "metadata": {
  "kernelspec": {
   "display_name": "Python 3",
   "language": "python",
   "name": "python3"
  },
  "language_info": {
   "codemirror_mode": {
    "name": "ipython",
    "version": 3
   },
   "file_extension": ".py",
   "mimetype": "text/x-python",
   "name": "python",
   "nbconvert_exporter": "python",
   "pygments_lexer": "ipython3",
   "version": "3.7.4"
  }
 },
 "nbformat": 4,
 "nbformat_minor": 4
}
